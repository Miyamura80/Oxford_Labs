{
  "nbformat": 4,
  "nbformat_minor": 0,
  "metadata": {
    "colab": {
      "provenance": []
    },
    "kernelspec": {
      "name": "python3",
      "display_name": "Python 3"
    },
    "language_info": {
      "name": "python"
    }
  },
  "cells": [
    {
      "cell_type": "markdown",
      "source": [
        "# **Practical 5**\n",
        "\n",
        "Welcome to the fifth practical for Graph Representation Learning (MT22). In this practical, we will be covering content from lecture 12.\n",
        "\n",
        "We will be implementing the 1-WL hash algorithm and testing it on several graphs with different configurations.\n",
        "\n",
        "The main goal of the practical is creating a working implementation of the 1-WL hash algorithm and understanding its applicability and limitations.\n",
        "\n",
        "The notebook is divided into sections, each of which comes with complete or partially completed code. Before each snippet of code there will be a description of what we are about to implement. The sections of code you need to complete are marked as Tasks.\n",
        "\n",
        "Please ensure that you operate within the framework given in the notebook and bring any questions you may have to the practical demonstrators. We suggest that you DO NOT edit code that is a part of the framework, since this will make it more difficult for demonstrators to assist if your code is broken."
      ],
      "metadata": {
        "id": "O12_NFdOzdlD"
      }
    },
    {
      "cell_type": "code",
      "source": [
        "# Check PyTorch version installed on this system\n",
        "!python -c \"import torch; print(torch.__version__)\""
      ],
      "metadata": {
        "id": "8YbmazR-2n-L"
      },
      "execution_count": null,
      "outputs": []
    },
    {
      "cell_type": "code",
      "source": [
        "%%capture\n",
        "# Download the corresponding PyTorch Geometric module\n",
        "\"\"\"\n",
        "Assign to TORCH with what you get from the cell above. E.g., export TORCH=1.12.1+cu113\n",
        "\"\"\"\n",
        "%env TORCH=1.12.1+cu113\n",
        "!pip install torch-scatter -f https://data.pyg.org/whl/torch-${TORCH}.html\n",
        "!pip install torch-sparse -f https://data.pyg.org/whl/torch-${TORCH}.html\n",
        "!pip install torch-geometric"
      ],
      "metadata": {
        "id": "n3wuc62T2pqt"
      },
      "execution_count": null,
      "outputs": []
    },
    {
      "cell_type": "code",
      "source": [
        "import random\n",
        "import numpy as np\n",
        "import torch\n",
        "import torch.nn as nn\n",
        "from torch_geometric.utils import from_networkx\n",
        "from torch_geometric.loader import DataLoader\n",
        "from torch_geometric.nn import Sequential, GCNConv, global_mean_pool\n",
        "import networkx as nx\n",
        "import matplotlib.pyplot as plt\n",
        "\n",
        "device = torch.device('cuda' if torch.cuda.is_available() else 'cpu')\n",
        "rng = np.random.default_rng()"
      ],
      "metadata": {
        "id": "LhDlsXipzg8M"
      },
      "execution_count": null,
      "outputs": []
    },
    {
      "cell_type": "markdown",
      "source": [
        "# **Part 1: Weisfeiler Lehman Graph Hash**\n",
        "\n",
        "This notebook is splitted in two parts. In Practical 5 we will be looking at the first half. Practical 6 will cover the second one."
      ],
      "metadata": {
        "id": "Ez7WXFaZz4De"
      }
    },
    {
      "cell_type": "markdown",
      "source": [
        "## **Task 1.1: Generate graph pairs using NetworkX**\n",
        "\n",
        "For $n$ between 6 and 15, generate all pairs of graphs $(\\mathcal{C_n}, \\mathcal{D}_{n,i}))$, where $\\mathcal{C}_n$ is a cycle on $n$ nodes and $\\mathcal{D}_{n,i}$ is the disjoint union of two cycles, with $n - i$ and $i$ nodes in total (of course the minimum number of nodes in each single connected component you build should be $> 2$). You can use the functions provided by networkx. We suggest you build on top of `networkx.cycle_graph`."
      ],
      "metadata": {
        "id": "IWHgG_5zPIkc"
      }
    },
    {
      "cell_type": "code",
      "source": [
        "# The range of different graph sizes\n",
        "size_range = range(6, 16)\n",
        "\n",
        "# The list of all graph pairs\n",
        "graph_pairs = []\n",
        "\n",
        "pass\n",
        "\n"
      ],
      "metadata": {
        "id": "Vva-OtQB0ONB"
      },
      "execution_count": null,
      "outputs": []
    },
    {
      "cell_type": "code",
      "source": [
        "### DO NOT MODIFY\n",
        "\n",
        "# Display a random pair\n",
        "fig, axs = plt.subplots(1, 2)\n",
        "pair = random.choice(graph_pairs)\n",
        "for i in range(2):\n",
        "    nx.draw(pair[i], ax=axs[i])\n",
        "    axs[i].set_title(f\"Graph {i+1}\")\n",
        "plt.show()"
      ],
      "metadata": {
        "id": "FYbqZs8RFODw"
      },
      "execution_count": null,
      "outputs": []
    },
    {
      "cell_type": "markdown",
      "source": [
        "## **Task 1.2: Implement the Weisfeiler Lehman (WL) graph hash**\n",
        "\n",
        "Implement the function `weisfeiler_lehman_graph_hash` that takes in input a graph $\\mathcal{G}$ and return the hash $WL(\\mathcal{G})$. Use the constant $c = 1$ as the label for each node. For this task, you **cannot** use the utilities provided by the networkx library (except to convert from graphs to tensors if necessary)."
      ],
      "metadata": {
        "id": "SInnrIEhFtlS"
      }
    },
    {
      "cell_type": "code",
      "source": [
        "def weisfeiler_lehman_graph_hash(graph):\n",
        "  \"\"\"Implements the 1-WL hash algorithm\"\"\"\n",
        "  pass"
      ],
      "metadata": {
        "id": "courOsIWGGxJ"
      },
      "execution_count": null,
      "outputs": []
    },
    {
      "cell_type": "markdown",
      "source": [
        "Let's do a sanity check to make sure that the members of each pair previously generated are 1-WL indistinguishable:"
      ],
      "metadata": {
        "id": "EQG5P3EQ0Ron"
      }
    },
    {
      "cell_type": "code",
      "source": [
        "### DO NOT MODIFY\n",
        "\n",
        "wl_indistinguishable_pairs = 0\n",
        "for pair in graph_pairs:\n",
        "    hash0 = weisfeiler_lehman_graph_hash(pair[0])\n",
        "    hash1 = weisfeiler_lehman_graph_hash(pair[1])\n",
        "    wl_indistinguishable_pairs += (hash0 == hash1)\n",
        "\n",
        "# Print the number of pairs produced\n",
        "print(f\"Number of graph pairs: {len(graph_pairs)}\")\n",
        "print(f\"Number of 1-WL indistinguishable pairs: {wl_indistinguishable_pairs}\")"
      ],
      "metadata": {
        "id": "cbQ_cD4n0UY9"
      },
      "execution_count": null,
      "outputs": []
    },
    {
      "cell_type": "markdown",
      "source": [
        "# Part 2: WL with extra node information"
      ],
      "metadata": {
        "id": "IHC26nBz44MC"
      }
    },
    {
      "cell_type": "markdown",
      "source": [
        "## **Task 2.1: Updating the hash function**\n",
        "\n",
        "Modify the `weisfeiler_lehman_graph_hash` to accept an optional extra element corresponding to the features to assign to each node to be used to compute the final hash."
      ],
      "metadata": {
        "id": "7Qej5u5JGwwv"
      }
    },
    {
      "cell_type": "markdown",
      "source": [
        "### Task 2.1.1\n",
        "Use the node degree as initial label to compute the WL hash. What do you expect to change compared to before? Why?"
      ],
      "metadata": {
        "id": "0ZlwqIRZIdN1"
      }
    },
    {
      "cell_type": "code",
      "source": [
        "def node_degrees(graph):\n",
        "  \"\"\"Returns a list with the degree of each node in graph\"\"\"\n",
        "  pass"
      ],
      "metadata": {
        "id": "sa_7JQgeI8CU"
      },
      "execution_count": null,
      "outputs": []
    },
    {
      "cell_type": "code",
      "source": [
        "### DO NOT MODIFY\n",
        "\n",
        "wl_indistinguishable_pairs_with_degree = 0\n",
        "for pair in graph_pairs:\n",
        "    hash0 = weisfeiler_lehman_graph_hash(pair[0], node_degrees(pair[0]))\n",
        "    hash1 = weisfeiler_lehman_graph_hash(pair[1], node_degrees(pair[1]))\n",
        "    wl_indistinguishable_pairs_with_degree += (hash0 == hash1)\n",
        "\n",
        "# Print the number of pairs produced\n",
        "print(f\"Number of graph pairs: {len(graph_pairs)}\")\n",
        "print(f\"Number of 1-WL indistinguishable pairs when\"\n",
        "      f\"using the node degree as label:\\n {wl_indistinguishable_pairs_with_degree}\")"
      ],
      "metadata": {
        "id": "zQt7k5VZJNf-"
      },
      "execution_count": null,
      "outputs": []
    },
    {
      "cell_type": "markdown",
      "source": [
        "### Task 2.1.2\n",
        "Modify the initial label of each node $N_i$ such that it now contains the shortest path length from $N_i$ to $N_j$. Run `weisfeiler_lehman_graph_hash` using the new labels."
      ],
      "metadata": {
        "id": "kXIr5wFmJtpC"
      }
    },
    {
      "cell_type": "code",
      "source": [
        "def node_shortest_paths(graph):\n",
        "  \"\"\"Returns a list with the lenghts of the shortest paths between all the node pairs\"\"\"\n",
        "  pass"
      ],
      "metadata": {
        "id": "yA4FEAhjK3NB"
      },
      "execution_count": null,
      "outputs": []
    },
    {
      "cell_type": "code",
      "source": [
        "### DO NOT MODIFY\n",
        "\n",
        "wl_indistinguishable_pairs_with_shortest_path = 0\n",
        "for pair in graph_pairs:\n",
        "    hash0 = weisfeiler_lehman_graph_hash(pair[0], node_shortest_paths(pair[0]))\n",
        "    hash1 = weisfeiler_lehman_graph_hash(pair[1], node_shortest_paths(pair[1]))\n",
        "    wl_indistinguishable_pairs_with_shortest_path += (hash0 == hash1)\n",
        "\n",
        "# Print the number of pairs produced\n",
        "print(f\"Number of graph pairs: {len(graph_pairs)}\")\n",
        "print(f\"Number of 1-WL indistinguishable pairs when\"\n",
        "      f\"using the shortest path lenghts as label:\\n {wl_indistinguishable_pairs_with_shortest_path}\")"
      ],
      "metadata": {
        "id": "4LxB8sp-LWKI"
      },
      "execution_count": null,
      "outputs": []
    },
    {
      "cell_type": "markdown",
      "source": [
        "## **Task 2.2 (Optional): Tricking the hash function.**\n",
        "\n",
        "Can you find one pair of non-isomorphic hamiltonian graphs with $N=6$ nodes and $E=9$ edges that are indistinguishable by the 1-WL hash even when using the `node_shortest_paths` as initial node label? \n",
        "(They don't have to be cycles/union of disjoint cycles. Any two graphs would suffice. How many pairs of hamiltonian graphs with 6 nodes and 9 edges each exist?)"
      ],
      "metadata": {
        "id": "2Wc6JBLhLyhM"
      }
    },
    {
      "cell_type": "code",
      "source": [
        "def trick_1wl_with_shortest_path():\n",
        "  \"\"\"Produces two non-isomorphic networkx graphs that are indistinguishable by\n",
        "     the 1-WL 'shortest-path' hash\"\"\"\n",
        "  pass"
      ],
      "metadata": {
        "id": "P_Q4TkFlNcwD"
      },
      "execution_count": null,
      "outputs": []
    },
    {
      "cell_type": "code",
      "source": [
        "### DO NOT MODIFY\n",
        "pair = trick_1wl_with_shortest_path()\n",
        "\n",
        "hash0 = weisfeiler_lehman_graph_hash(pair[0], node_shortest_paths(pair[0]))\n",
        "hash1 = weisfeiler_lehman_graph_hash(pair[1], node_shortest_paths(pair[1]))\n",
        "wl_indistinguishable_pairs_with_shortest_path = (hash0 == hash1)\n",
        "\n",
        "print(\"You manage to trick the 1-WL hash:\", wl_indistinguishable_pairs_with_shortest_path)\n",
        "\n",
        "fig, axs = plt.subplots(1, 2)\n",
        "for i in range(2):\n",
        "    nx.draw(pair[i], ax=axs[i])\n",
        "plt.show()"
      ],
      "metadata": {
        "id": "VAQb2jZkNglj"
      },
      "execution_count": null,
      "outputs": []
    },
    {
      "cell_type": "markdown",
      "source": [
        "Are you sure the graphs you found are not isomorphic?"
      ],
      "metadata": {
        "id": "hTwZq4CXQWmN"
      }
    }
  ]
}